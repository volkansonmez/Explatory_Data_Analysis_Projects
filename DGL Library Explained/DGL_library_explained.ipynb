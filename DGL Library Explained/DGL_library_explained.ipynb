{
 "cells": [
  {
   "cell_type": "markdown",
   "metadata": {},
   "source": [
    "### Notebook by [Volkan Sonmez] (http://www.pythonicfool.com/)  \n",
    "### Deep Graph Library tools are used to make:\n",
    "### Node Classification, Edge Classification, and Graph Classification with GraphConv & SAGEConv \n",
    "####  https://github.com/volkansonmez/Exploratory_Data_Analysis_and_ML_Projects\n"
   ]
  },
  {
   "cell_type": "markdown",
   "metadata": {},
   "source": [
    "## Table of contents\n",
    "\n",
    "1. [Introduction](#Introduction)\n",
    "\n",
    "2. [License](#License)\n",
    "\n",
    "3. [EDA and Building ML Model](#EDA_and_Building_ML_Model)\n",
    "\n",
    "4. [Node_Classification](#Node_Classification)\n",
    "\n",
    "5. [Edge_Classification](#Edge_Classification)\n",
    "\n",
    "6. [Graph_Classification](#Graph_Classification)\n",
    "\n",
    "7. [Conclusion](#Conclusion)"
   ]
  },
  {
   "cell_type": "markdown",
   "metadata": {},
   "source": [
    "## Introduction\n",
    "\n",
    "[[ go back to the top ]](#Table-of-contents)\n",
    "\n",
    "More recently, there has been a steady flow of new deep learning research focusing on graph-structured data. DGL is a tool (library) to do this efficiently. It has its own tutorials and packages to perform several classifications. Here is the website link for dgl.ai: https://docs.dgl.ai/tutorials/blitz/index.html"
   ]
  },
  {
   "cell_type": "markdown",
   "metadata": {},
   "source": [
    "## License\n",
    "\n",
    "[[ go back to the top ]](#Table-of-contents)\n",
    "\n",
    "Please see the [repository README file](https://github.com/volkansonmez/Exploratory_Data_Analysis_and_ML_Projects) \n",
    "for the licenses and usage terms for the instructional material and code in this notebook. "
   ]
  },
  {
   "cell_type": "markdown",
   "metadata": {},
   "source": [
    "## EDA_and_Building_ML_Model\n",
    "\n",
    "[[ go back to the top ]](#Table-of-contents)\n",
    "\n",
    "Simple dgl.nn modules: GraphConv and SAGEConv are used to build 2 layer networks to make Node and Edge classifications respectively on CoraDataSet. Graph Classification is made on MiniGCDataset with a 2 layer network built with GraphConv module. For Graph Classification, the in and out degrees of edges are multiplied to give some weight on the edges since the MiniGCDataset creates random connections with no edge properties.\n",
    "\n",
    "The graphs and subgraph connections can be visualized with networkx. \n"
   ]
  },
  {
   "cell_type": "code",
   "execution_count": 2,
   "metadata": {},
   "outputs": [
    {
     "name": "stdout",
     "output_type": "stream",
     "text": [
      "  NumNodes: 2708\n",
      "  NumEdges: 10556\n",
      "  NumFeats: 1433\n",
      "  NumClasses: 7\n",
      "  NumTrainingSamples: 140\n",
      "  NumValidationSamples: 500\n",
      "  NumTestSamples: 1000\n",
      "Done loading data from cached files.\n",
      "Number of categories: 7\n"
     ]
    }
   ],
   "source": [
    "# Import the dgl, torch, networkx, and numpy libraries\n",
    "import dgl\n",
    "import torch\n",
    "import torch.nn as nn\n",
    "import torch.nn.functional as F\n",
    "import dgl.data\n",
    "import numpy as np\n",
    "import matplotlib.pyplot as plt\n",
    "import itertools\n",
    "\n",
    "import networkx as nx\n",
    "# download the cora graph dataset for node classification and edge classification\n",
    "dataset = dgl.data.CoraGraphDataset()\n",
    "print('Number of categories:', dataset.num_classes)\n",
    "g = dataset[0]"
   ]
  },
  {
   "cell_type": "code",
   "execution_count": 3,
   "metadata": {},
   "outputs": [
    {
     "name": "stdout",
     "output_type": "stream",
     "text": [
      "2708 tensor([   0,    1,    2,  ..., 2705, 2706, 2707])\n",
      "10556 10556\n",
      "tensor([0, 0, 0, 1, 1]) tensor([ 633, 1862, 2582,    2,  652])\n",
      "tensor([3, 3, 5, 1, 5])\n",
      "tensor([3, 3, 5, 1, 5])\n"
     ]
    }
   ],
   "source": [
    "# View the data\n",
    "\n",
    "print(len(g.nodes()), g.nodes()) # 2708 nodes\n",
    "print(len(g.edges()[0]), len(g.edges()[1])) # 10556 edges, undirected graph, stored in two arrays as: [from] - [to]\n",
    "print(g.edges()[0][:5], g.edges()[1][:5]) # view some of the connections\n",
    "\n",
    "# check in and out degrees to see if this is directed or undirected\n",
    "print(g.in_degrees()[:5]) \n",
    "print(g.out_degrees()[:5]) # it is an undirected graph, all nodes in and out degrees are the same."
   ]
  },
  {
   "cell_type": "code",
   "execution_count": 4,
   "metadata": {},
   "outputs": [
    {
     "name": "stdout",
     "output_type": "stream",
     "text": [
      "Graph(num_nodes=2708, num_edges=10556,\n",
      "      ndata_schemes={'feat': Scheme(shape=(1433,), dtype=torch.float32), 'label': Scheme(shape=(), dtype=torch.int64), 'val_mask': Scheme(shape=(), dtype=torch.bool), 'test_mask': Scheme(shape=(), dtype=torch.bool), 'train_mask': Scheme(shape=(), dtype=torch.bool)}\n",
      "      edata_schemes={})\n"
     ]
    }
   ],
   "source": [
    "# View how a single graph is interpreted\n",
    "\n",
    "print(g)\n",
    "# it is one graph with 2708 nodes and 10556 edges. Node classifications can be done on one graph. There are 7 classes."
   ]
  },
  {
   "cell_type": "code",
   "execution_count": 5,
   "metadata": {},
   "outputs": [
    {
     "name": "stdout",
     "output_type": "stream",
     "text": [
      "{'feat': tensor([[0., 0., 0.,  ..., 0., 0., 0.],\n",
      "        [0., 0., 0.,  ..., 0., 0., 0.],\n",
      "        [0., 0., 0.,  ..., 0., 0., 0.],\n",
      "        ...,\n",
      "        [0., 0., 0.,  ..., 0., 0., 0.],\n",
      "        [0., 0., 0.,  ..., 0., 0., 0.],\n",
      "        [0., 0., 0.,  ..., 0., 0., 0.]]), 'label': tensor([3, 4, 4,  ..., 3, 3, 3]), 'val_mask': tensor([False, False, False,  ..., False, False, False]), 'test_mask': tensor([False, False, False,  ...,  True,  True,  True]), 'train_mask': tensor([ True,  True,  True,  ..., False, False, False])}\n",
      "{}\n"
     ]
    }
   ],
   "source": [
    "# View the properties of the nodes and edges of the graph\n",
    "\n",
    "print(g.ndata) # outputs node features, node labels, train, test, validation masks. \n",
    "print(g.edata) # outputs attributes in edge data, just connections. (there is no edge attributes in this dataset)"
   ]
  },
  {
   "cell_type": "code",
   "execution_count": 6,
   "metadata": {},
   "outputs": [
    {
     "name": "stdout",
     "output_type": "stream",
     "text": [
      "tensor([0.0000, 0.0000, 0.0000, 0.0000, 0.0000, 0.0000, 0.0000, 0.0000, 0.0000,\n",
      "        0.0000, 0.0000, 0.0000, 0.0000, 0.0000, 0.0000, 0.0000, 0.0000, 0.0000,\n",
      "        0.0000, 0.1111, 0.0000, 0.0000, 0.0000, 0.0000, 0.0000, 0.0000, 0.0000,\n",
      "        0.0000, 0.0000, 0.0000, 0.0000, 0.0000, 0.0000, 0.0000, 0.0000, 0.0000,\n",
      "        0.0000, 0.0000, 0.0000, 0.0000, 0.0000, 0.0000, 0.0000, 0.0000, 0.0000,\n",
      "        0.0000, 0.0000, 0.0000, 0.0000, 0.0000])\n",
      "9\n"
     ]
    }
   ],
   "source": [
    "# View the ndata closely for one vertex, each node has an array with the size of 1433 values, mostly 0. Very sparse. \n",
    "\n",
    "print(g.ndata['feat'][0][:50])\n",
    "first_node = g.ndata['feat'][0]\n",
    "print(len(([i for i in first_node if i > 0]))) # there are 9 attributes that are not 0 for the first node. "
   ]
  },
  {
   "cell_type": "code",
   "execution_count": 7,
   "metadata": {},
   "outputs": [
    {
     "data": {
      "image/png": "[encoded data removed]",
      "text/plain": [
       "<Figure size 432x288 with 1 Axes>"
      ]
     },
     "metadata": {},
     "output_type": "display_data"
    }
   ],
   "source": [
    "# View the graph to see some of the connections\n",
    "\n",
    "g_from, g_to = g.edges()[0][:100], g.edges()[1][:100]\n",
    "g_view = dgl.graph((g_from, g_to))\n",
    "nx.draw(g_view.to_networkx()) # reminder that nx library is assuming these connections as directed graph. "
   ]
  },
  {
   "cell_type": "markdown",
   "metadata": {},
   "source": [
    "## Node_Classification\n",
    "\n",
    "[[ go back to the top ]](#Table-of-contents)"
   ]
  },
  {
   "cell_type": "code",
   "execution_count": 8,
   "metadata": {},
   "outputs": [
    {
     "name": "stdout",
     "output_type": "stream",
     "text": [
      "tensor([4, 6, 1, 1, 1])\n",
      "tensor([3, 4, 4, 0, 3])\n",
      "<class 'torch.Tensor'> torch.Size([2708]) tensor(277)\n"
     ]
    }
   ],
   "source": [
    "# Check the GraphConv module if it is working for this data for node classification\n",
    "\n",
    "from dgl.nn import GraphConv\n",
    "in_feat = g.ndata[\"feat\"].shape[1] # size of the attributes\n",
    "out_feat = dataset.num_classes # there are total 7 classes \n",
    "\n",
    "\n",
    "class Test_GCN(nn.Module):\n",
    "    def __init__(self, in_feat, out_feat):\n",
    "        super().__init__()\n",
    "        self.conv1 = GraphConv(in_feat, out_feat)\n",
    "\n",
    "         \n",
    "    def forward(self, g, in_feat):\n",
    "        result = self.conv1(g, in_feat)\n",
    "        return result\n",
    "    \n",
    "\n",
    "test_model = Test_GCN(in_feat, out_feat)\n",
    "logits = test_model(g, g.ndata['feat']) # GraphConv takes the g.ndata['feat'] which is torch.Size([2708, 1433])\n",
    "pred = logits.argmax(1) # Compute prediction\n",
    "print(pred[:5])\n",
    "labels = g.ndata['label']\n",
    "print(labels[:5])\n",
    "print(type(pred), pred.shape, (pred == labels).sum()) \n",
    "# seems like it is all working and GraphConv net can be built "
   ]
  },
  {
   "cell_type": "code",
   "execution_count": 9,
   "metadata": {},
   "outputs": [],
   "source": [
    "# Build a 2 layer NN with GraphConv for Node Classification\n",
    "\n",
    "# store node attributes to variables for easy reading / writing\n",
    "features = g.ndata['feat']\n",
    "labels = g.ndata['label']\n",
    "train_mask = g.ndata['train_mask']\n",
    "val_mask = g.ndata['val_mask']\n",
    "test_mask = g.ndata['test_mask']\n",
    " \n",
    "# define the shape of the in - hidden - out layers\n",
    "in_feat = g.ndata[\"feat\"].shape[1]\n",
    "h_feat = 16 # more layers will yield slightly better results (32,50,100..)\n",
    "out_feat = dataset.num_classes\n",
    "\n",
    "# write a class with 2 convolutional layers and squeeze one activation function in between the layers\n",
    "class GCN(nn.Module):\n",
    "    def __init__(self, in_feat, h_feat, out_feat):\n",
    "        super().__init__()\n",
    "        self.conv1 = GraphConv(in_feat, h_feat)\n",
    "        self.conv2 = GraphConv(h_feat, out_feat)\n",
    "        \n",
    "        \n",
    "    def forward(self, g, in_feat):\n",
    "        h = self.conv1(g, in_feat)\n",
    "        h = F.relu(h)\n",
    "        h = self.conv2(g, h)\n",
    "        return h\n",
    "\n",
    "# create the model and define the optimizer\n",
    "model = GCN(in_feat, h_feat, out_feat)\n",
    "optimizer = torch.optim.Adam(model.parameters(), lr=0.001) \n"
   ]
  },
  {
   "cell_type": "code",
   "execution_count": 10,
   "metadata": {},
   "outputs": [
    {
     "name": "stdout",
     "output_type": "stream",
     "text": [
      "In epoch 99, loss: 1.743, val acc: 0.638, test acc: 0.632 \n",
      "In epoch 199, loss: 1.394, val acc: 0.686, test acc: 0.666 \n",
      "In epoch 299, loss: 1.007, val acc: 0.718, test acc: 0.721 \n",
      "In epoch 399, loss: 0.681, val acc: 0.744, test acc: 0.755 \n",
      "In epoch 499, loss: 0.453, val acc: 0.756, test acc: 0.763 \n"
     ]
    }
   ],
   "source": [
    "# train the model with the loss on multi-label cross entropy criterion\n",
    "\n",
    "for e in range(500):\n",
    "    # Forward prop\n",
    "    logits = model(g, features) # GraphConv takes the g.ndata['feat'] which is torch.Size([2708, 1433])\n",
    "\n",
    "    # Compute predictions\n",
    "    pred = logits.argmax(1)\n",
    "\n",
    "    # Compute loss on training data\n",
    "    loss = F.cross_entropy(logits[train_mask], labels[train_mask])\n",
    "\n",
    "    # Compute accuracy on training/validation/test\n",
    "    train_acc = (pred[train_mask] == labels[train_mask]).float().mean()\n",
    "    val_acc = (pred[val_mask] == labels[val_mask]).float().mean()\n",
    "    test_acc = (pred[test_mask] == labels[test_mask]).float().mean()\n",
    "\n",
    "    # Backward prop\n",
    "    optimizer.zero_grad()\n",
    "    loss.backward()\n",
    "    optimizer.step()\n",
    "\n",
    "    # Output losses on training, validation, and test sets\n",
    "    if e % 100 == 99:\n",
    "        print('In epoch {}, loss: {:.3f}, val acc: {:.3f}, test acc: {:.3f} '.format(e, loss, val_acc, test_acc))\n"
   ]
  },
  {
   "cell_type": "markdown",
   "metadata": {},
   "source": [
    "### About 76% accuracy is reached with a simple 2 layer model for node classification"
   ]
  },
  {
   "cell_type": "markdown",
   "metadata": {},
   "source": [
    "## Edge_Classification\n",
    "\n",
    "[[ go back to the top ]](#Table-of-contents)"
   ]
  },
  {
   "cell_type": "code",
   "execution_count": 11,
   "metadata": {},
   "outputs": [
    {
     "name": "stdout",
     "output_type": "stream",
     "text": [
      "tensor([1773,  306, 1136, 1037, 1799,  745, 1307, 1474,  316,  472])\n",
      "[[0. 0. 0. ... 0. 0. 0.]\n",
      " [0. 0. 1. ... 0. 0. 0.]\n",
      " [0. 1. 0. ... 0. 0. 0.]\n",
      " ...\n",
      " [0. 0. 0. ... 0. 0. 0.]\n",
      " [0. 0. 0. ... 0. 0. 0.]\n",
      " [0. 0. 0. ... 0. 0. 0.]]\n",
      "[[-1. -1. -1. ... -1. -1. -1.]\n",
      " [-1. -1.  0. ... -1. -1. -1.]\n",
      " [-1.  0. -1. ... -1. -1. -1.]\n",
      " ...\n",
      " [-1. -1. -1. ... -1. -1. -1.]\n",
      " [-1. -1. -1. ... -1. -1. -1.]\n",
      " [-1. -1. -1. ... -1. -1. -1.]]\n"
     ]
    }
   ],
   "source": [
    "# Extract a \"positive connections\" and a \"negative connections\" (no connections) data out of the edges list.\n",
    "# Positive connections (link between nodes) are already marked but negative edges has to be extracted\n",
    "\n",
    "u, v = g.edges()\n",
    "\n",
    "# Shuffle the indices, split the data to train and test sets\n",
    "shuffled_indices = np.random.permutation(g.number_of_edges())\n",
    "test_size = int(len(shuffled_indices) * 0.1)\n",
    "train_size = int(len(shuffled_indices) * 0.9)\n",
    "test_pos_u, test_pos_v = u[shuffled_indices[:test_size]], v[shuffled_indices[:test_size]]\n",
    "train_pos_u, train_pos_v = u[shuffled_indices[test_size:]], v[shuffled_indices[test_size:]]\n",
    "print(test_pos_u[:10])\n",
    "\n",
    "\n",
    "# reconstruct a graph, assign the positive and negative edges lists for training and test sets to new variables. \n",
    "train_pos_g = dgl.graph((train_pos_u, train_pos_v), num_nodes=g.number_of_nodes())\n",
    "test_pos_g = dgl.graph((test_pos_u, test_pos_v), num_nodes=g.number_of_nodes())\n",
    "\n",
    "\n",
    "# create a matrix of the original positive edge connections\n",
    "g_from, g_to = g.edges()[0], g.edges()[1]\n",
    "mat = np.zeros([len(g_from), len(g_to)])\n",
    "for i in range(len(g_from)): # row and col have the same length so one loop will suffice for creating a matrix.\n",
    "    row_item_ind = g_from[i]\n",
    "    col_item_ind = g_to[i]\n",
    "    mat[row_item_ind][col_item_ind] = 1\n",
    "print(mat[:10][:10])\n",
    "\n",
    "\n",
    "# since this is a sparse matrix, finding negative connection matrix and extracting all negative connections will\n",
    "# be too expensive. No need to do an node**2 long connections list\n",
    "mat_negative = np.array(mat, dtype = int) - np.ones(mat.shape)\n",
    "print(mat_negative[:10][:10]) # View\n",
    "# this was an expensive and needless step. So, don't do it this way. "
   ]
  },
  {
   "cell_type": "code",
   "execution_count": 12,
   "metadata": {},
   "outputs": [],
   "source": [
    "# It is too expensive to map a negative connection graph of a large sparse matrix. Any randomly picked 2 nodes have\n",
    "# 1/600 chances to be connected. So, creating a full negative connection list is waste of money for this problem. \n",
    "# Ex: NumNodes: 2708, NumEdges: 10556, on average each node is connected to 4-5 nodes and but to the other 2700-2708\n",
    "\n",
    "u, v = g.edges()\n",
    "# create two shuffled indices. \n",
    "# with around 1/600 error rate, let's make a negative connection list of this dataset with random connection pairs\n",
    "shuffled_indices1 = np.random.permutation(g.number_of_edges())\n",
    "shuffled_indices2 = np.random.permutation(g.number_of_edges())\n",
    "u_neg = u[shuffled_indices1]\n",
    "v_neg = v[shuffled_indices2]\n",
    "\n",
    "test_size = int(len(shuffled_indices) * 0.1)\n",
    "train_size = int(len(shuffled_indices) * 0.9)\n",
    "test_neg_u, test_neg_v = u_neg[shuffled_indices[:test_size]], v_neg[shuffled_indices[:test_size]]\n",
    "train_neg_u, train_neg_v = u_neg[shuffled_indices[test_size:]], v_neg[shuffled_indices[test_size:]]\n",
    "\n",
    "\n",
    "# assign the negative edges lists for training and test sets to new variables. \n",
    "train_neg_g = dgl.graph((train_neg_u, train_neg_v), num_nodes=g.number_of_nodes())\n",
    "test_neg_g = dgl.graph((test_neg_u, test_neg_v), num_nodes=g.number_of_nodes())\n"
   ]
  },
  {
   "cell_type": "code",
   "execution_count": 13,
   "metadata": {},
   "outputs": [
    {
     "name": "stdout",
     "output_type": "stream",
     "text": [
      "tensor([[2., 2.],\n",
      "        [2., 2.],\n",
      "        [2., 2.],\n",
      "        [2., 2.]]) torch.Size([4, 2])\n",
      "tensor([2., 2., 2., 2.]) torch.Size([4])\n"
     ]
    }
   ],
   "source": [
    "# Before creating a model, try using dgl's apply_edges and fn.u_add_V properties.  \n",
    "    \n",
    "# Reminder for: Homogeneous Graph for addition:\n",
    "#     g_test = dgl.graph(([0, 1, 2, 3], [1, 2, 3, 4]))\n",
    "#     g_test.ndata['h'] = torch.ones(5, 2)\n",
    "#     g_test.apply_edges(lambda edges: {'x' : edges.src['h'] + edges.dst['h']})\n",
    "#     print(g_test.edata['x'])\n",
    "\n",
    "# Reminder for: Heterogeneous graph for addition:\n",
    "#     g_test = dgl.heterograph({('user', 'plays', 'game'): ([0, 1, 1, 2], [0, 0, 2, 1])})\n",
    "#     g_test.edges[('user', 'plays', 'game')].data['h'] = torch.ones(4, 5)\n",
    "#     g_test.apply_edges(lambda edges: {'h': edges.data['h'] * 2})\n",
    "#     print(g_test.edges[('user', 'plays', 'game')].data['h'])\n",
    "\n",
    "\n",
    "# Test some easy to use built-in functions.\n",
    "g_test = dgl.graph(([0, 1, 2, 3], [1, 2, 3, 4])) # create a graph with edges and 5 nodes 0,1..4\n",
    "g_test.ndata['h'] = torch.ones(5, 2) # assign node attributes with 'ndata['h']' to those 5 nodes each having 2 attr.\n",
    "\n",
    "\n",
    "# Test the addition: u['h'] is added to v['h'] and stored in edata['x']\n",
    "import dgl.function as fn\n",
    "g_test.apply_edges(fn.u_add_v('h', 'h', 'x'))\n",
    "print(g_test.edata['x'], g_test.edata['x'].shape)\n",
    "\n",
    "\n",
    "# Test the dot product: u['h'] multiplied with v['h'] and stored in edata['score']\n",
    "import dgl.function as fn\n",
    "g_test.ndata['h'] = torch.ones(5, 2)\n",
    "# Compute a new edge feature named 'score' by a dot-product btwn the src. node feature 'h' and dest. node feature 'h'\n",
    "g_test.apply_edges(fn.u_dot_v('h', 'h', 'score'))\n",
    "# u_dot_v returns a 1-element vector for each edge so you need to squeeze it.\n",
    "print(g_test.edata['score'][:, 0], g_test.edata['score'][:, 0].shape) \n"
   ]
  },
  {
   "cell_type": "code",
   "execution_count": 14,
   "metadata": {},
   "outputs": [],
   "source": [
    "# Build a two-layer GraphSAGE model\n",
    "\n",
    "from dgl.nn import SAGEConv\n",
    "\n",
    "class GraphSAGE(nn.Module):\n",
    "    def __init__(self, in_feats, h_feats):\n",
    "        super(GraphSAGE, self).__init__()\n",
    "        self.conv1 = SAGEConv(in_feats, h_feats, 'mean')\n",
    "        self.conv2 = SAGEConv(h_feats, h_feats, 'mean')\n",
    "    \n",
    "    def forward(self, g, in_feat):\n",
    "        h = self.conv1(g, in_feat)\n",
    "        h = F.relu(h)\n",
    "        h = self.conv2(g, h)\n",
    "        return h\n",
    "\n",
    "# shuffle the graph nodes and then prepare it for training \n",
    "train_g = dgl.remove_edges(g, shuffled_indices[:test_size]) # remove 10 percent (test size) from the original data\n",
    "# create the model\n",
    "model = GraphSAGE(train_g.ndata['feat'].shape[1], 16) # hidden size is picked 16 for convenience\n"
   ]
  },
  {
   "cell_type": "code",
   "execution_count": 15,
   "metadata": {},
   "outputs": [
    {
     "name": "stdout",
     "output_type": "stream",
     "text": [
      "{'feat': tensor([[0., 0., 0.,  ..., 0., 0., 0.],\n",
      "        [0., 0., 0.,  ..., 0., 0., 0.],\n",
      "        [0., 0., 0.,  ..., 0., 0., 0.],\n",
      "        ...,\n",
      "        [0., 0., 0.,  ..., 0., 0., 0.],\n",
      "        [0., 0., 0.,  ..., 0., 0., 0.],\n",
      "        [0., 0., 0.,  ..., 0., 0., 0.]]), 'label': tensor([3, 4, 4,  ..., 3, 3, 3]), 'val_mask': tensor([False, False, False,  ..., False, False, False]), 'test_mask': tensor([False, False, False,  ...,  True,  True,  True]), 'train_mask': tensor([ True,  True,  True,  ..., False, False, False])}\n"
     ]
    }
   ],
   "source": [
    "# Set up the optimizer and add self connections\n",
    "\n",
    "optimizer = torch.optim.Adam(itertools.chain(model.parameters()), lr=0.001)\n",
    "\n",
    "# add self connections since there might be 0-in-degree nodes in the graph and backprop will also work on them\n",
    "from sklearn.metrics import roc_auc_score\n",
    "\n",
    "train_g = dgl.add_self_loop(train_g)\n",
    "train_pos_g = dgl.add_self_loop(train_pos_g)\n",
    "train_neg_g = dgl.add_self_loop(train_neg_g)\n",
    "print(train_g.ndata)"
   ]
  },
  {
   "cell_type": "code",
   "execution_count": 16,
   "metadata": {},
   "outputs": [
    {
     "name": "stdout",
     "output_type": "stream",
     "text": [
      "In epoch: 0, training loss : 0.6929466128349304, test accuracy: 0.581742838963945\n",
      "In epoch: 49, training loss : 0.6414734125137329, test accuracy: 0.8609903874676881\n",
      "In epoch: 98, training loss : 0.5175637602806091, test accuracy: 0.9193981302026266\n",
      "In epoch: 147, training loss : 0.4741532504558563, test accuracy: 0.9581716802412854\n",
      "In epoch: 196, training loss : 0.44746407866477966, test accuracy: 0.9743840254159674\n",
      "In epoch: 245, training loss : 0.42845261096954346, test accuracy: 0.9822595621950916\n",
      "In epoch: 294, training loss : 0.4143081307411194, test accuracy: 0.986333661884061\n",
      "In epoch: 343, training loss : 0.4033767580986023, test accuracy: 0.9886478222102193\n",
      "In epoch: 392, training loss : 0.39467477798461914, test accuracy: 0.9904380380365901\n",
      "In epoch: 441, training loss : 0.38749825954437256, test accuracy: 0.9914877316824529\n",
      "In epoch: 490, training loss : 0.3813899755477905, test accuracy: 0.9926239208844142\n"
     ]
    }
   ],
   "source": [
    "# Train the model for the link (edge) prediction analysis\n",
    "\n",
    "for e in range(500):\n",
    "    # forward prop\n",
    "    h_pos = model(train_pos_g, train_g.ndata['feat']) \n",
    "    h_neg = model(train_neg_g, train_g.ndata['feat']) \n",
    "    # Compute a new edge feature named 'score' by a dot-product between the\n",
    "    # source node feature 'h' and destination node feature 'h'. Both for positive and negative connections\n",
    "    # obtain the positive scores\n",
    "    train_pos_g.ndata['h'] = h_pos\n",
    "    train_pos_g.apply_edges(fn.u_dot_v('h', 'h', 'score')) # store the dot product of nodes['h'] in edata['score']\n",
    "    train_pos_g.edata['score'] = train_pos_g.edata['score'][:, 0] # reshape the array to (1,:)\n",
    "    pos_score = train_pos_g.edata['score'] # store the scores\n",
    "    # obtain negative scores\n",
    "    train_neg_g.ndata['h'] = h_neg\n",
    "    train_neg_g.apply_edges(fn.u_dot_v('h', 'h', 'score'))\n",
    "    train_neg_g.edata['score'] = train_neg_g.edata['score'][:, 0]\n",
    "    neg_score = train_neg_g.edata['score']\n",
    "    # calculate the loss between positive scores and negative scores\n",
    "    scores = torch.cat([pos_score, neg_score]) # put both scores in one array in order\n",
    "    labels = torch.cat([torch.ones(pos_score.shape[0]), torch.zeros(neg_score.shape[0])]) # set up the labels \n",
    "    loss = F.binary_cross_entropy_with_logits(scores, labels) # calculate the binary cross entropy loss\n",
    "\n",
    "    \n",
    "    # back prop\n",
    "    optimizer.zero_grad()\n",
    "    loss.backward()\n",
    "    optimizer.step()\n",
    "    \n",
    "    if e % 49 == 0:\n",
    "        train_scores = np.array(torch.cat([pos_score, neg_score]).detach())\n",
    "        labels = np.array(torch.cat([torch.ones(pos_score.shape[0]), torch.zeros(neg_score.shape[0])]))\n",
    "        acc = roc_auc_score(labels, train_scores)\n",
    "        print('In epoch: {}, training loss : {}, test accuracy: {}'.format(e, loss, acc))\n",
    "    "
   ]
  },
  {
   "cell_type": "markdown",
   "metadata": {},
   "source": [
    "### 99 percent test accuracy is achieved in link prediction (edge classification). "
   ]
  },
  {
   "cell_type": "markdown",
   "metadata": {},
   "source": [
    "## Graph_Classification\n",
    "\n",
    "[[ go back to the top ]](#Table-of-contents)"
   ]
  },
  {
   "cell_type": "code",
   "execution_count": 18,
   "metadata": {},
   "outputs": [],
   "source": [
    "# Graph Classification is made with MiniGCDataset\n",
    "\n",
    "# class dgl.data.MiniGCDataset takes: (num_graphs, min_num_v, max_num_v) to create graphs. \n",
    "# num_graphs: number of graphs in this dataset\n",
    "# min_num_v: minimum number of nodes for graphs\n",
    "# max_num_v: maximum number of nodes for graphs\n",
    "\n",
    "from dgl.data import MiniGCDataset\n",
    "# from res.plot_lib import set_default\n",
    "# set_default(figsize=(3, 3), dpi=150)"
   ]
  },
  {
   "cell_type": "code",
   "execution_count": 19,
   "metadata": {},
   "outputs": [
    {
     "name": "stdout",
     "output_type": "stream",
     "text": [
      "500\n",
      "Graph(num_nodes=14, num_edges=42,\n",
      "      ndata_schemes={'attr': Scheme(shape=(1,), dtype=torch.float32)}\n",
      "      edata_schemes={'attr': Scheme(shape=(1,), dtype=torch.float32)})\n"
     ]
    }
   ],
   "source": [
    "# Generate artifical graph dataset with DGL\n",
    "# The datset contains 8 different types of graphs: \n",
    "# ('cycle','star','wheel','lollipop','hypercube','grid','clique','circular ladder')\n",
    "\n",
    "trainset = MiniGCDataset(500, 10, 15) # create 500 of randomly picked graphs between 8 to 15 nodes for training\n",
    "testset = MiniGCDataset(100, 10, 15)\n",
    "\n",
    "# add features to the nodes (in * out degrees to each node) \n",
    "# add features to the edges (just add 1 to each edge to represent a simple connection)\n",
    "def add_features(dataset):\n",
    "    for (graph, _) in dataset:\n",
    "        in_degrees = graph.in_degrees() # in degrees to each node\n",
    "        out_degrees = graph.out_degrees() # in degrees to each node\n",
    "        in_and_out_degrees = in_degrees * out_degrees  # vector multiplication\n",
    "        graph.ndata['attr'] = in_and_out_degrees.view(-1, 1).float() / 100 # max number of nodes\n",
    "        graph.edata['attr'] = torch.ones(graph.number_of_edges(), 1)\n",
    "    return dataset\n",
    "\n",
    "\n",
    "trainset = add_features(trainset)\n",
    "testset = add_features(testset)\n",
    "\n",
    "print(len(trainset))\n",
    "print(trainset[0][0])"
   ]
  },
  {
   "cell_type": "code",
   "execution_count": 20,
   "metadata": {},
   "outputs": [
    {
     "name": "stdout",
     "output_type": "stream",
     "text": [
      "500\n",
      "(Graph(num_nodes=14, num_edges=42,\n",
      "      ndata_schemes={'attr': Scheme(shape=(1,), dtype=torch.float32)}\n",
      "      edata_schemes={'attr': Scheme(shape=(1,), dtype=torch.float32)}), tensor(0))\n"
     ]
    }
   ],
   "source": [
    "# Add features to the nodes (in * out degrees to each node) \n",
    "# add features to the edges (just add 1 to each edge to represent a simple connection)\n",
    "\n",
    "def add_features(dataset):\n",
    "    for (graph, _) in dataset:\n",
    "        in_degrees = graph.in_degrees() # in degrees to each node\n",
    "        out_degrees = graph.out_degrees() # in degrees to each node\n",
    "        in_and_out_degrees = in_degrees * out_degrees # vector multiplication\n",
    "        graph.ndata['attr'] = in_and_out_degrees.view(-1, 1).float() # max number of nodes\n",
    "        graph.edata['attr'] = torch.ones(graph.number_of_edges(), 1)\n",
    "    return dataset\n",
    "\n",
    "\n",
    "trainset = add_features(trainset)\n",
    "testset = add_features(testset)\n",
    "\n",
    "print(len(trainset))\n",
    "print(trainset[0][:5])\n",
    "\n",
    "# Ex: [Graph(num_nodes=13, num_edges=57,\n",
    "#       ndata_schemes={'attr': Scheme(shape=(3,), dtype=torch.float32), 'label': Scheme(shape=(), dtype=torch.int64)}\n",
    "#       edata_schemes={}), tensor([1])]"
   ]
  },
  {
   "cell_type": "code",
   "execution_count": 21,
   "metadata": {},
   "outputs": [
    {
     "name": "stdout",
     "output_type": "stream",
     "text": [
      "data: (Graph(num_nodes=14, num_edges=42,\n",
      "      ndata_schemes={'attr': Scheme(shape=(1,), dtype=torch.float32)}\n",
      "      edata_schemes={'attr': Scheme(shape=(1,), dtype=torch.float32)}), tensor(0)) label: (Graph(num_nodes=10, num_edges=30,\n",
      "      ndata_schemes={'attr': Scheme(shape=(1,), dtype=torch.float32)}\n",
      "      edata_schemes={'attr': Scheme(shape=(1,), dtype=torch.float32)}), tensor(0))\n",
      "tensor([[9.],\n",
      "        [9.],\n",
      "        [9.],\n",
      "        [9.],\n",
      "        [9.],\n",
      "        [9.],\n",
      "        [9.],\n",
      "        [9.],\n",
      "        [9.],\n",
      "        [9.],\n",
      "        [9.],\n",
      "        [9.],\n",
      "        [9.],\n",
      "        [9.]]) tensor([[ 81.],\n",
      "        [ 81.],\n",
      "        [ 81.],\n",
      "        [ 81.],\n",
      "        [ 81.],\n",
      "        [ 81.],\n",
      "        [ 81.],\n",
      "        [ 81.],\n",
      "        [100.],\n",
      "        [  9.],\n",
      "        [  9.],\n",
      "        [  9.],\n",
      "        [  9.],\n",
      "        [  4.]])\n"
     ]
    },
    {
     "data": {
      "image/png": "[encoded data removed]",
      "text/plain": [
       "<Figure size 432x288 with 1 Axes>"
      ]
     },
     "metadata": {},
     "output_type": "display_data"
    }
   ],
   "source": [
    "# Visualize a randomly picked graph\n",
    "\n",
    "print('data:', trainset[0], 'label:', trainset[1])\n",
    "# print(trainset[0][0].ndata['feat'], trainset[0][0].edata['feat']) \n",
    "plt.figure()\n",
    "nx.draw(trainset[0][0].to_networkx(), with_labels=True, node_color='cyan', edge_color='red')\n",
    "print(trainset[0][0].ndata['attr'] , trainset[200][0].ndata['attr'])"
   ]
  },
  {
   "cell_type": "code",
   "execution_count": 22,
   "metadata": {},
   "outputs": [
    {
     "name": "stdout",
     "output_type": "stream",
     "text": [
      "500 100\n"
     ]
    }
   ],
   "source": [
    "# Consolidate a few graphs into each batch. For simplicity, the solution below is made for 1 graph ==> 1 batch\n",
    "# It is common to pick a number between 5-20 graphs for a batch. \n",
    "\n",
    "from dgl.dataloading import GraphDataLoader\n",
    "from torch.utils.data.sampler import SubsetRandomSampler\n",
    "\n",
    "print(len(trainset), len(testset))\n",
    "num_examples = len(trainset)\n",
    "num_train = int(num_examples * 0.8)\n",
    "num_test = len(testset)\n",
    "\n",
    "train_sampler = SubsetRandomSampler(torch.arange(num_train))\n",
    "test_sampler = SubsetRandomSampler(torch.arange(num_test))\n",
    "\n",
    "train_dataloader = GraphDataLoader(\n",
    "    trainset, sampler=train_sampler, batch_size=1, drop_last=False)\n",
    "test_dataloader = GraphDataLoader(\n",
    "    testset, sampler=test_sampler, batch_size=1, drop_last=False)\n"
   ]
  },
  {
   "cell_type": "code",
   "execution_count": 23,
   "metadata": {},
   "outputs": [
    {
     "name": "stdout",
     "output_type": "stream",
     "text": [
      "[Graph(num_nodes=12, num_edges=44,\n",
      "      ndata_schemes={'attr': Scheme(shape=(1,), dtype=torch.float32)}\n",
      "      edata_schemes={'attr': Scheme(shape=(1,), dtype=torch.float32)}), tensor([5])]\n",
      "[Graph(num_nodes=12, num_edges=34,\n",
      "      ndata_schemes={'attr': Scheme(shape=(1,), dtype=torch.float32)}\n",
      "      edata_schemes={'attr': Scheme(shape=(1,), dtype=torch.float32)}), tensor([1])]\n"
     ]
    }
   ],
   "source": [
    "# See if the trainloader iterable object is working\n",
    "\n",
    "it = iter(train_dataloader)\n",
    "batch = next(it)\n",
    "print(batch)\n",
    "print(it.next())"
   ]
  },
  {
   "cell_type": "code",
   "execution_count": 24,
   "metadata": {},
   "outputs": [
    {
     "name": "stdout",
     "output_type": "stream",
     "text": [
      "Number of nodes for each graph element in the batch: tensor([12])\n",
      "Number of edges for each graph element in the batch: tensor([44])\n",
      "Node feature dimensionality: 15\n",
      "Number of graph categories: 8\n"
     ]
    }
   ],
   "source": [
    "# Review the properties of each batch\n",
    "\n",
    "batched_graph, labels = batch\n",
    "print('Number of nodes for each graph element in the batch:', batched_graph.batch_num_nodes())\n",
    "print('Number of edges for each graph element in the batch:', batched_graph.batch_num_edges())\n",
    "print('Node feature dimensionality:', trainset.max_num_v)\n",
    "print('Number of graph categories:', trainset.num_classes)"
   ]
  },
  {
   "cell_type": "code",
   "execution_count": 25,
   "metadata": {},
   "outputs": [
    {
     "data": {
      "text/plain": [
       "Graph(num_nodes=12, num_edges=44,\n",
       "      ndata_schemes={'attr': Scheme(shape=(1,), dtype=torch.float32)}\n",
       "      edata_schemes={'attr': Scheme(shape=(1,), dtype=torch.float32)})"
      ]
     },
     "execution_count": 25,
     "metadata": {},
     "output_type": "execute_result"
    }
   ],
   "source": [
    "# View 1 batch (1 graph)\n",
    "\n",
    "batched_graph"
   ]
  },
  {
   "cell_type": "code",
   "execution_count": 26,
   "metadata": {},
   "outputs": [],
   "source": [
    "# Build a 2 layer NN with GraphConv\n",
    "\n",
    "from dgl.nn import GraphConv\n",
    "\n",
    "class GCN(nn.Module):\n",
    "    def __init__(self, in_feats, h_feats, num_classes):\n",
    "        super(GCN, self).__init__()\n",
    "        self.conv1 = GraphConv(in_feats, h_feats)\n",
    "        self.conv2 = GraphConv(h_feats, num_classes)\n",
    "    \n",
    "    def forward(self, g, in_feat):\n",
    "        h = self.conv1(g, in_feat)\n",
    "        h = F.relu(h)\n",
    "        h = self.conv2(g, h)\n",
    "        g.ndata['h'] = h\n",
    "        return dgl.mean_nodes(g, 'h')\n",
    "\n",
    "\n",
    "# Create the model with given dimensions\n",
    "model = GCN(1, 16, trainset.num_classes)\n",
    "optimizer = torch.optim.Adam(model.parameters(), lr=0.001)"
   ]
  },
  {
   "cell_type": "code",
   "execution_count": 27,
   "metadata": {},
   "outputs": [
    {
     "name": "stdout",
     "output_type": "stream",
     "text": [
      "at: 0 Test accuracy %: 12.0\n",
      "at: 49 Test accuracy %: 62.0\n",
      "at: 98 Test accuracy %: 74.0\n",
      "at: 147 Test accuracy %: 71.0\n",
      "at: 196 Test accuracy %: 75.0\n",
      "at: 245 Test accuracy %: 76.0\n",
      "at: 294 Test accuracy %: 76.0\n",
      "at: 343 Test accuracy %: 80.0\n",
      "at: 392 Test accuracy %: 81.0\n",
      "at: 441 Test accuracy %: 84.0\n",
      "at: 490 Test accuracy %: 82.0\n"
     ]
    }
   ],
   "source": [
    "# Train the model: \n",
    "\n",
    "for epoch in range(500):\n",
    "    for batched_graph, labels in train_dataloader:\n",
    "        pred = model(batched_graph, batched_graph.ndata['attr'].float())\n",
    "        loss = F.cross_entropy(pred, labels)\n",
    "        optimizer.zero_grad()\n",
    "        loss.backward()\n",
    "        optimizer.step()\n",
    "    if epoch % 49 == 0:\n",
    "        # testing\n",
    "        num_correct = 0\n",
    "        num_tests = 0\n",
    "        for batched_graph, labels in test_dataloader:\n",
    "            pred = model(batched_graph, batched_graph.ndata['attr'].float())\n",
    "            num_correct += (pred.argmax(1) == labels).sum().item()\n",
    "            num_tests += len(labels)\n",
    "        print('at:', epoch, 'Test accuracy %:', num_correct / num_tests * 100)\n",
    "        "
   ]
  },
  {
   "cell_type": "markdown",
   "metadata": {},
   "source": [
    "## Conclusion\n",
    "\n",
    "[[ go back to the top ]](#Table-of-contents)\n",
    "\n",
    "Dgl library seems like a fast tool for graph analysis. For further comparision, there will be a notebook created for comparing its efficiency. The tests will be done on a simple 2 layer model of gated recurrent convolutional NN vs dgl tools."
   ]
  }
 ],
 "metadata": {
  "kernelspec": {
   "display_name": "Python 3",
   "language": "python",
   "name": "python3"
  },
  "language_info": {
   "codemirror_mode": {
    "name": "ipython",
    "version": 3
   },
   "file_extension": ".py",
   "mimetype": "text/x-python",
   "name": "python",
   "nbconvert_exporter": "python",
   "pygments_lexer": "ipython3",
   "version": "3.7.7"
  }
 },
 "nbformat": 4,
 "nbformat_minor": 4
}
